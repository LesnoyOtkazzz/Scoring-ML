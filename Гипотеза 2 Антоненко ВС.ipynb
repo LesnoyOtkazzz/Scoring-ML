{
 "cells": [
  {
   "cell_type": "code",
   "execution_count": 26,
   "id": "e0b3a06a",
   "metadata": {},
   "outputs": [],
   "source": [
    "import pandas as pd\n",
    "import numpy as np\n",
    "from sklearn.model_selection import train_test_split\n",
    "from sklearn.linear_model import LinearRegression\n",
    "from sklearn.metrics import mean_squared_log_error\n",
    "from sklearn.metrics import roc_auc_score\n",
    "from sklearn.metrics import roc_curve\n",
    "from sklearn.linear_model import Ridge\n",
    "from sklearn.metrics import plot_roc_curve\n",
    "from sklearn.linear_model import LogisticRegression"
   ]
  },
  {
   "cell_type": "code",
   "execution_count": 27,
   "id": "6fd0184b",
   "metadata": {},
   "outputs": [],
   "source": [
    "train_raw = pd.read_csv('train_pr.csv')\n",
    "test = pd.read_csv('test_pr.csv')"
   ]
  },
  {
   "cell_type": "code",
   "execution_count": 28,
   "id": "7aa3fd77",
   "metadata": {},
   "outputs": [
    {
     "data": {
      "text/plain": [
       "((10906, 50), (4675, 50), (4902, 50))"
      ]
     },
     "execution_count": 28,
     "metadata": {},
     "output_type": "execute_result"
    }
   ],
   "source": [
    "split_date = '2014-03-01'\n",
    "# разбиваем данные на обучающий и отложенный набор данных (train и out of time)\n",
    "train = train_raw[train_raw['timestamp'] < split_date]\n",
    "oot = train_raw[train_raw['timestamp'] >= split_date]\n",
    "\n",
    "# создаем колонку по которой будем делать стратификацию данных\n",
    "stratify = train['timestamp'].str[:-3] + '_' + train['__churn'].map(str)\n",
    "\n",
    "# разбиваем датасет на обучающий и отложенный (train и out of sample) в соотношении 70% (train) на 30% (out of time) использую стратифицированную колонку\n",
    "train, oos = train_test_split(train, test_size=0.3, random_state=47, stratify=stratify)\n",
    "\n",
    "train.shape, oos.shape, oot.shape"
   ]
  },
  {
   "cell_type": "code",
   "execution_count": 29,
   "id": "1338fdd9",
   "metadata": {},
   "outputs": [
    {
     "data": {
      "text/plain": [
       "['public_transport_station_min_walk',\n",
       " 'product_type',\n",
       " 'oil_chemistry_raion',\n",
       " 'mkad_km',\n",
       " 'sport_count_2000',\n",
       " 'credit_limit',\n",
       " 'thermal_power_plant_raion',\n",
       " 'avg_open_to_buy',\n",
       " 'big_market_raion',\n",
       " 'contacts_count_12_mon',\n",
       " 'total_trans_ct',\n",
       " 'detention_facility_raion',\n",
       " 'customer_age',\n",
       " 'railroad_1line',\n",
       " 'culture_objects_top_25',\n",
       " 'total_amt_chng_q4_q1',\n",
       " 'dependent_count',\n",
       " 'card_category',\n",
       " 'income_category',\n",
       " 'marital_status',\n",
       " 'office_sqm_5000',\n",
       " 'railroad_station_walk_km',\n",
       " 'leisure_count_5000',\n",
       " 'total_relationship_count',\n",
       " 'nuclear_reactor_raion',\n",
       " 'full_sq',\n",
       " 'total_revolving_bal',\n",
       " 'cafe_count_1000_price_1000',\n",
       " 'gender',\n",
       " 'months_inactive_12_mon',\n",
       " 'trc_count_2000',\n",
       " 'months_on_book',\n",
       " 'market_count_1500',\n",
       " 'incineration_raion',\n",
       " 'total_ct_chng_q4_q1',\n",
       " 'leisure_count_3000',\n",
       " 'school_education_centers_top_20_raion',\n",
       " 'water_1line',\n",
       " 'avg_utilization_ratio',\n",
       " 'ecology',\n",
       " 'metro_km_walk',\n",
       " 'floor',\n",
       " 'railroad_terminal_raion',\n",
       " 'education_level',\n",
       " 'detention_facility_km',\n",
       " 'radiation_raion',\n",
       " 'big_road1_1line']"
      ]
     },
     "execution_count": 29,
     "metadata": {},
     "output_type": "execute_result"
    }
   ],
   "source": [
    "remove_features = train.columns[train.columns.str.startswith('__')].tolist()\n",
    "remove_features\n",
    "continuous_features = list(set(train.dtypes[train.dtypes != 'object'].index.tolist()) \n",
    "                           - set(remove_features))\n",
    "continuous_features"
   ]
  },
  {
   "cell_type": "code",
   "execution_count": 30,
   "id": "1d2fb1b8",
   "metadata": {},
   "outputs": [],
   "source": [
    "X_train = train[continuous_features].fillna(0.).copy(True)\n",
    "X_test = test[continuous_features].fillna(0.).copy(True)\n",
    "X_oos = oos[continuous_features].fillna(0.).copy(True)\n",
    "X_oot = oot[continuous_features].fillna(0.).copy(True)\n",
    "\n",
    "X_y_datasets = [\n",
    "    ('train', X_train, train),\n",
    "    ('oos', X_oos, oos),\n",
    "    ('oot', X_oot, oot)]"
   ]
  },
  {
   "cell_type": "code",
   "execution_count": 31,
   "id": "c0437c95",
   "metadata": {},
   "outputs": [
    {
     "name": "stderr",
     "output_type": "stream",
     "text": [
      "C:\\Users\\1\\AppData\\Local\\Temp\\ipykernel_8948\\913328655.py:15: SettingWithCopyWarning: \n",
      "A value is trying to be set on a copy of a slice from a DataFrame.\n",
      "Try using .loc[row_indexer,col_indexer] = value instead\n",
      "\n",
      "See the caveats in the documentation: https://pandas.pydata.org/pandas-docs/stable/user_guide/indexing.html#returning-a-view-versus-a-copy\n",
      "  y_['__price_predict_linreg'] = value\n"
     ]
    }
   ],
   "source": [
    "name, X_, y_ = X_y_datasets[0]\n",
    "\n",
    "# создаем модель\n",
    "reg_model = LinearRegression()\n",
    "# обучаем модель\n",
    "reg_model.fit(X_, y_['__price_doc'])\n",
    "\n",
    "train_columns = X_.columns.tolist()\n",
    "\n",
    "for name, X_, y_ in X_y_datasets:\n",
    "    # получаем предсказания модели\n",
    "    value = reg_model.predict(X_)\n",
    "    # зануляем значения прогноза в случае если они ниже 0\n",
    "    value[value < 0] = 0\n",
    "    y_['__price_predict_linreg'] = value\n",
    "    "
   ]
  },
  {
   "cell_type": "code",
   "execution_count": 39,
   "id": "a2e4b9b0",
   "metadata": {},
   "outputs": [
    {
     "name": "stdout",
     "output_type": "stream",
     "text": [
      "train     : 0.1705\n",
      "oos       : 0.1638\n",
      "oot       : 0.1716\n"
     ]
    }
   ],
   "source": [
    "for name, X_, y_ in X_y_datasets:\n",
    "    # получаем оценку качества модели\n",
    "    value = mean_squared_log_error(y_true=y_['__price_doc'], y_pred=y_['__price_predict_linreg'])\n",
    "    print(f'{name:10s}: {value:.4f}')"
   ]
  },
  {
   "cell_type": "code",
   "execution_count": 40,
   "id": "a08db9de",
   "metadata": {},
   "outputs": [
    {
     "name": "stdout",
     "output_type": "stream",
     "text": [
      "\n",
      "alpha 0.0\n",
      "train     : 0.1705\n",
      "oos       : 0.1638\n",
      "oot       : 0.1716\n",
      "\n",
      "alpha 1.0\n",
      "train     : 0.1930\n",
      "oos       : 0.1845\n",
      "oot       : 0.1801\n",
      "\n",
      "alpha 10\n",
      "train     : 0.1917\n",
      "oos       : 0.1830\n",
      "oot       : 0.1785\n",
      "\n",
      "alpha 100.0\n",
      "train     : 0.1864\n",
      "oos       : 0.1775\n",
      "oot       : 0.1717\n",
      "\n",
      "alpha 1000.0\n",
      "train     : 0.1948\n",
      "oos       : 0.1857\n",
      "oot       : 0.1699\n",
      "\n",
      "alpha 10000.0\n",
      "train     : 0.2452\n",
      "oos       : 0.2372\n",
      "oot       : 0.2170\n",
      "\n",
      "alpha 100000.0\n",
      "train     : 0.2750\n",
      "oos       : 0.2676\n",
      "oot       : 0.2469\n",
      "\n",
      "alpha 1000000.0\n",
      "train     : 0.2813\n",
      "oos       : 0.2739\n",
      "oot       : 0.2531\n",
      "\n",
      "alpha 10000000.0\n",
      "train     : 0.2820\n",
      "oos       : 0.2747\n",
      "oot       : 0.2539\n",
      "\n",
      "alpha 100000000.0\n",
      "train     : 0.2820\n",
      "oos       : 0.2747\n",
      "oot       : 0.2539\n"
     ]
    },
    {
     "name": "stderr",
     "output_type": "stream",
     "text": [
      "C:\\Users\\1\\AppData\\Local\\Temp\\ipykernel_8948\\1526424972.py:13: SettingWithCopyWarning: \n",
      "A value is trying to be set on a copy of a slice from a DataFrame.\n",
      "Try using .loc[row_indexer,col_indexer] = value instead\n",
      "\n",
      "See the caveats in the documentation: https://pandas.pydata.org/pandas-docs/stable/user_guide/indexing.html#returning-a-view-versus-a-copy\n",
      "  y_['__price_predict_ridge'] = value\n",
      "C:\\Users\\1\\AppData\\Local\\Temp\\ipykernel_8948\\1526424972.py:13: SettingWithCopyWarning: \n",
      "A value is trying to be set on a copy of a slice from a DataFrame.\n",
      "Try using .loc[row_indexer,col_indexer] = value instead\n",
      "\n",
      "See the caveats in the documentation: https://pandas.pydata.org/pandas-docs/stable/user_guide/indexing.html#returning-a-view-versus-a-copy\n",
      "  y_['__price_predict_ridge'] = value\n",
      "C:\\Users\\1\\AppData\\Local\\Temp\\ipykernel_8948\\1526424972.py:13: SettingWithCopyWarning: \n",
      "A value is trying to be set on a copy of a slice from a DataFrame.\n",
      "Try using .loc[row_indexer,col_indexer] = value instead\n",
      "\n",
      "See the caveats in the documentation: https://pandas.pydata.org/pandas-docs/stable/user_guide/indexing.html#returning-a-view-versus-a-copy\n",
      "  y_['__price_predict_ridge'] = value\n",
      "C:\\Users\\1\\AppData\\Local\\Temp\\ipykernel_8948\\1526424972.py:13: SettingWithCopyWarning: \n",
      "A value is trying to be set on a copy of a slice from a DataFrame.\n",
      "Try using .loc[row_indexer,col_indexer] = value instead\n",
      "\n",
      "See the caveats in the documentation: https://pandas.pydata.org/pandas-docs/stable/user_guide/indexing.html#returning-a-view-versus-a-copy\n",
      "  y_['__price_predict_ridge'] = value\n",
      "C:\\Users\\1\\AppData\\Local\\Temp\\ipykernel_8948\\1526424972.py:13: SettingWithCopyWarning: \n",
      "A value is trying to be set on a copy of a slice from a DataFrame.\n",
      "Try using .loc[row_indexer,col_indexer] = value instead\n",
      "\n",
      "See the caveats in the documentation: https://pandas.pydata.org/pandas-docs/stable/user_guide/indexing.html#returning-a-view-versus-a-copy\n",
      "  y_['__price_predict_ridge'] = value\n",
      "C:\\Users\\1\\AppData\\Local\\Temp\\ipykernel_8948\\1526424972.py:13: SettingWithCopyWarning: \n",
      "A value is trying to be set on a copy of a slice from a DataFrame.\n",
      "Try using .loc[row_indexer,col_indexer] = value instead\n",
      "\n",
      "See the caveats in the documentation: https://pandas.pydata.org/pandas-docs/stable/user_guide/indexing.html#returning-a-view-versus-a-copy\n",
      "  y_['__price_predict_ridge'] = value\n",
      "C:\\Users\\1\\AppData\\Local\\Temp\\ipykernel_8948\\1526424972.py:13: SettingWithCopyWarning: \n",
      "A value is trying to be set on a copy of a slice from a DataFrame.\n",
      "Try using .loc[row_indexer,col_indexer] = value instead\n",
      "\n",
      "See the caveats in the documentation: https://pandas.pydata.org/pandas-docs/stable/user_guide/indexing.html#returning-a-view-versus-a-copy\n",
      "  y_['__price_predict_ridge'] = value\n",
      "C:\\Users\\1\\AppData\\Local\\Temp\\ipykernel_8948\\1526424972.py:13: SettingWithCopyWarning: \n",
      "A value is trying to be set on a copy of a slice from a DataFrame.\n",
      "Try using .loc[row_indexer,col_indexer] = value instead\n",
      "\n",
      "See the caveats in the documentation: https://pandas.pydata.org/pandas-docs/stable/user_guide/indexing.html#returning-a-view-versus-a-copy\n",
      "  y_['__price_predict_ridge'] = value\n",
      "C:\\Users\\1\\AppData\\Local\\Temp\\ipykernel_8948\\1526424972.py:13: SettingWithCopyWarning: \n",
      "A value is trying to be set on a copy of a slice from a DataFrame.\n",
      "Try using .loc[row_indexer,col_indexer] = value instead\n",
      "\n",
      "See the caveats in the documentation: https://pandas.pydata.org/pandas-docs/stable/user_guide/indexing.html#returning-a-view-versus-a-copy\n",
      "  y_['__price_predict_ridge'] = value\n",
      "C:\\Users\\1\\AppData\\Local\\Temp\\ipykernel_8948\\1526424972.py:13: SettingWithCopyWarning: \n",
      "A value is trying to be set on a copy of a slice from a DataFrame.\n",
      "Try using .loc[row_indexer,col_indexer] = value instead\n",
      "\n",
      "See the caveats in the documentation: https://pandas.pydata.org/pandas-docs/stable/user_guide/indexing.html#returning-a-view-versus-a-copy\n",
      "  y_['__price_predict_ridge'] = value\n"
     ]
    }
   ],
   "source": [
    "name, X_, y_ = X_y_datasets[0]\n",
    "for alpha in [0., 1., 10, 1e2, 1e3, 1e4, 1e5, 1e6, 1e7, 1e8]:\n",
    "\n",
    "    print(f'\\nalpha {alpha}')\n",
    "    ridge_model = Ridge(alpha=alpha)\n",
    "    ridge_model.fit(X_, y_['__price_doc'])\n",
    "\n",
    "    train_columns = X_.columns.tolist()\n",
    "\n",
    "    for name, X_, y_ in X_y_datasets:\n",
    "        value = ridge_model.predict(X_)\n",
    "        value[value < 0] = 0\n",
    "        y_['__price_predict_ridge'] = value\n",
    "    \n",
    "    for name, X_, y_ in X_y_datasets:\n",
    "        value = mean_squared_log_error(y_true=y_['__price_doc'], y_pred=y_['__price_predict_ridge'])\n",
    "        print(f'{name:10s}: {value:.4f}')\n",
    "        "
   ]
  },
  {
   "cell_type": "code",
   "execution_count": 41,
   "id": "db5ed236",
   "metadata": {},
   "outputs": [
    {
     "name": "stdout",
     "output_type": "stream",
     "text": [
      "\n",
      "alpha 0.0\n",
      "train     : 0.1705\n",
      "oos       : 0.1638\n",
      "oot       : 0.1716\n",
      "\n",
      "alpha 0.1\n",
      "train     : 0.1932\n",
      "oos       : 0.1849\n",
      "oot       : 0.1804\n",
      "\n",
      "alpha 0.2\n",
      "train     : 0.1932\n",
      "oos       : 0.1848\n",
      "oot       : 0.1804\n",
      "\n",
      "alpha 0.3\n",
      "train     : 0.1931\n",
      "oos       : 0.1848\n",
      "oot       : 0.1804\n",
      "\n",
      "alpha 0.4\n",
      "train     : 0.1931\n",
      "oos       : 0.1847\n",
      "oot       : 0.1804\n",
      "\n",
      "alpha 0.5\n",
      "train     : 0.1931\n",
      "oos       : 0.1847\n",
      "oot       : 0.1803\n",
      "\n",
      "alpha 0.6\n",
      "train     : 0.1931\n",
      "oos       : 0.1846\n",
      "oot       : 0.1803\n",
      "\n",
      "alpha 0.7\n",
      "train     : 0.1930\n",
      "oos       : 0.1846\n",
      "oot       : 0.1803\n",
      "\n",
      "alpha 0.8\n",
      "train     : 0.1930\n",
      "oos       : 0.1846\n",
      "oot       : 0.1802\n",
      "\n",
      "alpha 0.9\n",
      "train     : 0.1930\n",
      "oos       : 0.1845\n",
      "oot       : 0.1802\n",
      "\n",
      "alpha 1\n",
      "train     : 0.1930\n",
      "oos       : 0.1845\n",
      "oot       : 0.1801\n"
     ]
    },
    {
     "name": "stderr",
     "output_type": "stream",
     "text": [
      "C:\\Users\\1\\AppData\\Local\\Temp\\ipykernel_8948\\827175997.py:14: SettingWithCopyWarning: \n",
      "A value is trying to be set on a copy of a slice from a DataFrame.\n",
      "Try using .loc[row_indexer,col_indexer] = value instead\n",
      "\n",
      "See the caveats in the documentation: https://pandas.pydata.org/pandas-docs/stable/user_guide/indexing.html#returning-a-view-versus-a-copy\n",
      "  y_['__price_predict_ridge'] = value\n",
      "C:\\Users\\1\\AppData\\Local\\Temp\\ipykernel_8948\\827175997.py:14: SettingWithCopyWarning: \n",
      "A value is trying to be set on a copy of a slice from a DataFrame.\n",
      "Try using .loc[row_indexer,col_indexer] = value instead\n",
      "\n",
      "See the caveats in the documentation: https://pandas.pydata.org/pandas-docs/stable/user_guide/indexing.html#returning-a-view-versus-a-copy\n",
      "  y_['__price_predict_ridge'] = value\n",
      "C:\\Users\\1\\AppData\\Local\\Temp\\ipykernel_8948\\827175997.py:14: SettingWithCopyWarning: \n",
      "A value is trying to be set on a copy of a slice from a DataFrame.\n",
      "Try using .loc[row_indexer,col_indexer] = value instead\n",
      "\n",
      "See the caveats in the documentation: https://pandas.pydata.org/pandas-docs/stable/user_guide/indexing.html#returning-a-view-versus-a-copy\n",
      "  y_['__price_predict_ridge'] = value\n",
      "C:\\Users\\1\\AppData\\Local\\Temp\\ipykernel_8948\\827175997.py:14: SettingWithCopyWarning: \n",
      "A value is trying to be set on a copy of a slice from a DataFrame.\n",
      "Try using .loc[row_indexer,col_indexer] = value instead\n",
      "\n",
      "See the caveats in the documentation: https://pandas.pydata.org/pandas-docs/stable/user_guide/indexing.html#returning-a-view-versus-a-copy\n",
      "  y_['__price_predict_ridge'] = value\n",
      "C:\\Users\\1\\AppData\\Local\\Temp\\ipykernel_8948\\827175997.py:14: SettingWithCopyWarning: \n",
      "A value is trying to be set on a copy of a slice from a DataFrame.\n",
      "Try using .loc[row_indexer,col_indexer] = value instead\n",
      "\n",
      "See the caveats in the documentation: https://pandas.pydata.org/pandas-docs/stable/user_guide/indexing.html#returning-a-view-versus-a-copy\n",
      "  y_['__price_predict_ridge'] = value\n",
      "C:\\Users\\1\\AppData\\Local\\Temp\\ipykernel_8948\\827175997.py:14: SettingWithCopyWarning: \n",
      "A value is trying to be set on a copy of a slice from a DataFrame.\n",
      "Try using .loc[row_indexer,col_indexer] = value instead\n",
      "\n",
      "See the caveats in the documentation: https://pandas.pydata.org/pandas-docs/stable/user_guide/indexing.html#returning-a-view-versus-a-copy\n",
      "  y_['__price_predict_ridge'] = value\n",
      "C:\\Users\\1\\AppData\\Local\\Temp\\ipykernel_8948\\827175997.py:14: SettingWithCopyWarning: \n",
      "A value is trying to be set on a copy of a slice from a DataFrame.\n",
      "Try using .loc[row_indexer,col_indexer] = value instead\n",
      "\n",
      "See the caveats in the documentation: https://pandas.pydata.org/pandas-docs/stable/user_guide/indexing.html#returning-a-view-versus-a-copy\n",
      "  y_['__price_predict_ridge'] = value\n",
      "C:\\Users\\1\\AppData\\Local\\Temp\\ipykernel_8948\\827175997.py:14: SettingWithCopyWarning: \n",
      "A value is trying to be set on a copy of a slice from a DataFrame.\n",
      "Try using .loc[row_indexer,col_indexer] = value instead\n",
      "\n",
      "See the caveats in the documentation: https://pandas.pydata.org/pandas-docs/stable/user_guide/indexing.html#returning-a-view-versus-a-copy\n",
      "  y_['__price_predict_ridge'] = value\n",
      "C:\\Users\\1\\AppData\\Local\\Temp\\ipykernel_8948\\827175997.py:14: SettingWithCopyWarning: \n",
      "A value is trying to be set on a copy of a slice from a DataFrame.\n",
      "Try using .loc[row_indexer,col_indexer] = value instead\n",
      "\n",
      "See the caveats in the documentation: https://pandas.pydata.org/pandas-docs/stable/user_guide/indexing.html#returning-a-view-versus-a-copy\n",
      "  y_['__price_predict_ridge'] = value\n",
      "C:\\Users\\1\\AppData\\Local\\Temp\\ipykernel_8948\\827175997.py:14: SettingWithCopyWarning: \n",
      "A value is trying to be set on a copy of a slice from a DataFrame.\n",
      "Try using .loc[row_indexer,col_indexer] = value instead\n",
      "\n",
      "See the caveats in the documentation: https://pandas.pydata.org/pandas-docs/stable/user_guide/indexing.html#returning-a-view-versus-a-copy\n",
      "  y_['__price_predict_ridge'] = value\n",
      "C:\\Users\\1\\AppData\\Local\\Temp\\ipykernel_8948\\827175997.py:14: SettingWithCopyWarning: \n",
      "A value is trying to be set on a copy of a slice from a DataFrame.\n",
      "Try using .loc[row_indexer,col_indexer] = value instead\n",
      "\n",
      "See the caveats in the documentation: https://pandas.pydata.org/pandas-docs/stable/user_guide/indexing.html#returning-a-view-versus-a-copy\n",
      "  y_['__price_predict_ridge'] = value\n"
     ]
    }
   ],
   "source": [
    "#попробуем разбивку сетки от 0 до 1: может это даст лучший результат\n",
    "\n",
    "name, X_, y_ = X_y_datasets[0]\n",
    "for alpha in [0., 0.1,0.2,0.3,0.4,0.5,0.6,0.7,0.8,0.9,1]:\n",
    "\n",
    "    print(f'\\nalpha {alpha}')\n",
    "    ridge_model = Ridge(alpha=alpha)\n",
    "    ridge_model.fit(X_, y_['__price_doc'])\n",
    "\n",
    "    train_columns = X_.columns.tolist()\n",
    "\n",
    "    for name, X_, y_ in X_y_datasets:\n",
    "        value = ridge_model.predict(X_)\n",
    "        value[value < 0] = 0\n",
    "        y_['__price_predict_ridge'] = value\n",
    "    for name, X_, y_ in X_y_datasets:\n",
    "        value = mean_squared_log_error(y_true=y_['__price_doc'], y_pred=y_['__price_predict_ridge'])\n",
    "        print(f'{name:10s}: {value:.4f}')"
   ]
  },
  {
   "cell_type": "code",
   "execution_count": 42,
   "id": "b1b77bfa",
   "metadata": {},
   "outputs": [],
   "source": [
    "#фактически лучшая модель - без регуляризации с RMSE 0.1705 0.1638 0.1716"
   ]
  },
  {
   "cell_type": "code",
   "execution_count": 44,
   "id": "4e4567f8",
   "metadata": {},
   "outputs": [
    {
     "name": "stderr",
     "output_type": "stream",
     "text": [
      "D:\\conda\\lib\\site-packages\\sklearn\\utils\\deprecation.py:87: FutureWarning: Function plot_roc_curve is deprecated; Function :func:`plot_roc_curve` is deprecated in 1.0 and will be removed in 1.2. Use one of the class methods: :meth:`sklearn.metric.RocCurveDisplay.from_predictions` or :meth:`sklearn.metric.RocCurveDisplay.from_estimator`.\n",
      "  warnings.warn(msg, category=FutureWarning)\n"
     ]
    },
    {
     "data": {
      "text/plain": [
       "<sklearn.metrics._plot.roc_curve.RocCurveDisplay at 0x2b5693cb430>"
      ]
     },
     "execution_count": 44,
     "metadata": {},
     "output_type": "execute_result"
    },
    {
     "data": {
      "image/png": "[encoded data removed]",
      "text/plain": [
       "<Figure size 640x480 with 1 Axes>"
      ]
     },
     "metadata": {},
     "output_type": "display_data"
    }
   ],
   "source": [
    "name, X_, y_ = X_y_datasets[0]\n",
    "log_model = LogisticRegression(max_iter=1000,C=1,solver=\"liblinear\")\n",
    "log_model.fit(X_, y_['__churn'])\n",
    "plot_roc_curve(log_model, X_, y_['__churn'])"
   ]
  },
  {
   "cell_type": "code",
   "execution_count": 49,
   "id": "86eda2f1",
   "metadata": {},
   "outputs": [
    {
     "name": "stdout",
     "output_type": "stream",
     "text": [
      "\n",
      "alpha 0.1\n"
     ]
    },
    {
     "name": "stderr",
     "output_type": "stream",
     "text": [
      "C:\\Users\\1\\AppData\\Local\\Temp\\ipykernel_8948\\14289047.py:15: SettingWithCopyWarning: \n",
      "A value is trying to be set on a copy of a slice from a DataFrame.\n",
      "Try using .loc[row_indexer,col_indexer] = value instead\n",
      "\n",
      "See the caveats in the documentation: https://pandas.pydata.org/pandas-docs/stable/user_guide/indexing.html#returning-a-view-versus-a-copy\n",
      "  y_['__churn_predict_log'] = value\n"
     ]
    },
    {
     "name": "stdout",
     "output_type": "stream",
     "text": [
      "train     : 0.9640\n",
      "oos       : 0.9668\n",
      "oot       : 0.9624\n",
      "\n",
      "alpha 0.2\n"
     ]
    },
    {
     "name": "stderr",
     "output_type": "stream",
     "text": [
      "C:\\Users\\1\\AppData\\Local\\Temp\\ipykernel_8948\\14289047.py:15: SettingWithCopyWarning: \n",
      "A value is trying to be set on a copy of a slice from a DataFrame.\n",
      "Try using .loc[row_indexer,col_indexer] = value instead\n",
      "\n",
      "See the caveats in the documentation: https://pandas.pydata.org/pandas-docs/stable/user_guide/indexing.html#returning-a-view-versus-a-copy\n",
      "  y_['__churn_predict_log'] = value\n"
     ]
    },
    {
     "name": "stdout",
     "output_type": "stream",
     "text": [
      "train     : 0.9627\n",
      "oos       : 0.9661\n",
      "oot       : 0.9652\n",
      "\n",
      "alpha 0.3\n"
     ]
    },
    {
     "name": "stderr",
     "output_type": "stream",
     "text": [
      "C:\\Users\\1\\AppData\\Local\\Temp\\ipykernel_8948\\14289047.py:15: SettingWithCopyWarning: \n",
      "A value is trying to be set on a copy of a slice from a DataFrame.\n",
      "Try using .loc[row_indexer,col_indexer] = value instead\n",
      "\n",
      "See the caveats in the documentation: https://pandas.pydata.org/pandas-docs/stable/user_guide/indexing.html#returning-a-view-versus-a-copy\n",
      "  y_['__churn_predict_log'] = value\n"
     ]
    },
    {
     "name": "stdout",
     "output_type": "stream",
     "text": [
      "train     : 0.9629\n",
      "oos       : 0.9663\n",
      "oot       : 0.9657\n",
      "\n",
      "alpha 0.4\n"
     ]
    },
    {
     "name": "stderr",
     "output_type": "stream",
     "text": [
      "C:\\Users\\1\\AppData\\Local\\Temp\\ipykernel_8948\\14289047.py:15: SettingWithCopyWarning: \n",
      "A value is trying to be set on a copy of a slice from a DataFrame.\n",
      "Try using .loc[row_indexer,col_indexer] = value instead\n",
      "\n",
      "See the caveats in the documentation: https://pandas.pydata.org/pandas-docs/stable/user_guide/indexing.html#returning-a-view-versus-a-copy\n",
      "  y_['__churn_predict_log'] = value\n"
     ]
    },
    {
     "name": "stdout",
     "output_type": "stream",
     "text": [
      "train     : 0.9629\n",
      "oos       : 0.9663\n",
      "oot       : 0.9659\n",
      "\n",
      "alpha 0.5\n"
     ]
    },
    {
     "name": "stderr",
     "output_type": "stream",
     "text": [
      "C:\\Users\\1\\AppData\\Local\\Temp\\ipykernel_8948\\14289047.py:15: SettingWithCopyWarning: \n",
      "A value is trying to be set on a copy of a slice from a DataFrame.\n",
      "Try using .loc[row_indexer,col_indexer] = value instead\n",
      "\n",
      "See the caveats in the documentation: https://pandas.pydata.org/pandas-docs/stable/user_guide/indexing.html#returning-a-view-versus-a-copy\n",
      "  y_['__churn_predict_log'] = value\n"
     ]
    },
    {
     "name": "stdout",
     "output_type": "stream",
     "text": [
      "train     : 0.9629\n",
      "oos       : 0.9663\n",
      "oot       : 0.9660\n",
      "\n",
      "alpha 0.6\n"
     ]
    },
    {
     "name": "stderr",
     "output_type": "stream",
     "text": [
      "C:\\Users\\1\\AppData\\Local\\Temp\\ipykernel_8948\\14289047.py:15: SettingWithCopyWarning: \n",
      "A value is trying to be set on a copy of a slice from a DataFrame.\n",
      "Try using .loc[row_indexer,col_indexer] = value instead\n",
      "\n",
      "See the caveats in the documentation: https://pandas.pydata.org/pandas-docs/stable/user_guide/indexing.html#returning-a-view-versus-a-copy\n",
      "  y_['__churn_predict_log'] = value\n"
     ]
    },
    {
     "name": "stdout",
     "output_type": "stream",
     "text": [
      "train     : 0.9629\n",
      "oos       : 0.9664\n",
      "oot       : 0.9661\n",
      "\n",
      "alpha 0.7\n"
     ]
    },
    {
     "name": "stderr",
     "output_type": "stream",
     "text": [
      "C:\\Users\\1\\AppData\\Local\\Temp\\ipykernel_8948\\14289047.py:15: SettingWithCopyWarning: \n",
      "A value is trying to be set on a copy of a slice from a DataFrame.\n",
      "Try using .loc[row_indexer,col_indexer] = value instead\n",
      "\n",
      "See the caveats in the documentation: https://pandas.pydata.org/pandas-docs/stable/user_guide/indexing.html#returning-a-view-versus-a-copy\n",
      "  y_['__churn_predict_log'] = value\n"
     ]
    },
    {
     "name": "stdout",
     "output_type": "stream",
     "text": [
      "train     : 0.9629\n",
      "oos       : 0.9663\n",
      "oot       : 0.9661\n",
      "\n",
      "alpha 0.8\n"
     ]
    },
    {
     "name": "stderr",
     "output_type": "stream",
     "text": [
      "C:\\Users\\1\\AppData\\Local\\Temp\\ipykernel_8948\\14289047.py:15: SettingWithCopyWarning: \n",
      "A value is trying to be set on a copy of a slice from a DataFrame.\n",
      "Try using .loc[row_indexer,col_indexer] = value instead\n",
      "\n",
      "See the caveats in the documentation: https://pandas.pydata.org/pandas-docs/stable/user_guide/indexing.html#returning-a-view-versus-a-copy\n",
      "  y_['__churn_predict_log'] = value\n"
     ]
    },
    {
     "name": "stdout",
     "output_type": "stream",
     "text": [
      "train     : 0.9629\n",
      "oos       : 0.9663\n",
      "oot       : 0.9662\n",
      "\n",
      "alpha 0.9\n"
     ]
    },
    {
     "name": "stderr",
     "output_type": "stream",
     "text": [
      "C:\\Users\\1\\AppData\\Local\\Temp\\ipykernel_8948\\14289047.py:15: SettingWithCopyWarning: \n",
      "A value is trying to be set on a copy of a slice from a DataFrame.\n",
      "Try using .loc[row_indexer,col_indexer] = value instead\n",
      "\n",
      "See the caveats in the documentation: https://pandas.pydata.org/pandas-docs/stable/user_guide/indexing.html#returning-a-view-versus-a-copy\n",
      "  y_['__churn_predict_log'] = value\n"
     ]
    },
    {
     "name": "stdout",
     "output_type": "stream",
     "text": [
      "train     : 0.9629\n",
      "oos       : 0.9663\n",
      "oot       : 0.9662\n",
      "\n",
      "alpha 1\n",
      "train     : 0.9629\n",
      "oos       : 0.9663\n",
      "oot       : 0.9662\n"
     ]
    },
    {
     "name": "stderr",
     "output_type": "stream",
     "text": [
      "C:\\Users\\1\\AppData\\Local\\Temp\\ipykernel_8948\\14289047.py:15: SettingWithCopyWarning: \n",
      "A value is trying to be set on a copy of a slice from a DataFrame.\n",
      "Try using .loc[row_indexer,col_indexer] = value instead\n",
      "\n",
      "See the caveats in the documentation: https://pandas.pydata.org/pandas-docs/stable/user_guide/indexing.html#returning-a-view-versus-a-copy\n",
      "  y_['__churn_predict_log'] = value\n"
     ]
    }
   ],
   "source": [
    "name, X_, y_ = X_y_datasets[0]\n",
    "for alpha in [0.1,0.2,0.3,0.4,0.5,0.6,0.7,0.8,0.9,1]:\n",
    "\n",
    "    print(f'\\nalpha {alpha}')\n",
    "    log_model = LogisticRegression(max_iter=1000,C=alpha,penalty=\"l2\",solver=\"liblinear\")\n",
    "    log_model.fit(X_, y_['__churn'])\n",
    "\n",
    "    train_columns = X_.columns.tolist()\n",
    "\n",
    "    for name, X_, y_ in X_y_datasets:\n",
    "        value = []\n",
    "        for j in range(len(log_model.predict_proba(X_))):\n",
    "            value.append(log_model.predict_proba(X_)[j][1])\n",
    "        #value[value < 0] = 0\n",
    "        y_['__churn_predict_log'] = value\n",
    "    \n",
    "    for name, X_, y_ in X_y_datasets:\n",
    "        value = roc_auc_score(y_['__churn'], y_['__churn_predict_log'])\n",
    "        print(f'{name:10s}: {value:.4f}')"
   ]
  },
  {
   "cell_type": "code",
   "execution_count": null,
   "id": "7357245c",
   "metadata": {},
   "outputs": [],
   "source": [
    "#можно взять модели с силой регуляризации от 0.7 до 1 при этом auc составляет 0.9663 и 0.9662 "
   ]
  }
 ],
 "metadata": {
  "kernelspec": {
   "display_name": "Python 3 (ipykernel)",
   "language": "python",
   "name": "python3"
  },
  "language_info": {
   "codemirror_mode": {
    "name": "ipython",
    "version": 3
   },
   "file_extension": ".py",
   "mimetype": "text/x-python",
   "name": "python",
   "nbconvert_exporter": "python",
   "pygments_lexer": "ipython3",
   "version": "3.9.13"
  }
 },
 "nbformat": 4,
 "nbformat_minor": 5
}
