{
 "cells": [
  {
   "cell_type": "code",
   "execution_count": 1,
   "id": "b1d2fa90",
   "metadata": {},
   "outputs": [],
   "source": [
    "import pandas as pd\n",
    "import numpy as np\n",
    "import spacy"
   ]
  },
  {
   "cell_type": "code",
   "execution_count": 2,
   "id": "149e2a10",
   "metadata": {},
   "outputs": [],
   "source": [
    "import time\n",
    "from ipywidgets import IntProgress\n",
    "from IPython.display import display"
   ]
  },
  {
   "cell_type": "code",
   "execution_count": 3,
   "id": "6147baeb",
   "metadata": {},
   "outputs": [],
   "source": [
    "nlp = spacy.load(\"en_core_web_sm\")"
   ]
  },
  {
   "cell_type": "code",
   "execution_count": 4,
   "id": "bd519753",
   "metadata": {},
   "outputs": [],
   "source": [
    "review = pd.read_csv('review.csv', dtype={'comment': str, 'game': str})\n",
    "review_sub = pd.read_csv('review_submission.csv', dtype={'comment': str, 'game': str})\n",
    "review['comment'].fillna('', inplace=True)"
   ]
  },
  {
   "cell_type": "code",
   "execution_count": 5,
   "id": "abafd7c9",
   "metadata": {},
   "outputs": [],
   "source": [
    "games = pd.read_csv('games.csv', dtype={\"desc\": str})\n",
    "games_sub = pd.read_csv('games_submission.csv', dtype={\"desc\": str})"
   ]
  },
  {
   "cell_type": "markdown",
   "id": "15f85ad0",
   "metadata": {},
   "source": [
    "### Предиктим оценку по описанию игры"
   ]
  },
  {
   "cell_type": "code",
   "execution_count": 6,
   "id": "f903a882",
   "metadata": {},
   "outputs": [],
   "source": [
    "games[\"desc\"]=games[\"desc\"].astype(str)"
   ]
  },
  {
   "cell_type": "code",
   "execution_count": 7,
   "id": "34a1c5d9",
   "metadata": {},
   "outputs": [
    {
     "data": {
      "application/vnd.jupyter.widget-view+json": {
       "model_id": "54beafd4e8eb410d90d9f1401dd34171",
       "version_major": 2,
       "version_minor": 0
      },
      "text/plain": [
       "IntProgress(value=0, max=10618)"
      ]
     },
     "metadata": {},
     "output_type": "display_data"
    }
   ],
   "source": [
    "f = IntProgress(min=0, max=len(games))\n",
    "display(f)\n",
    "\n",
    "games_vec = []\n",
    "for i in games[\"desc\"]:\n",
    "    games_vec.append(nlp(i).vector)\n",
    "    f.value += 1"
   ]
  },
  {
   "cell_type": "code",
   "execution_count": 8,
   "id": "18c1b7f5",
   "metadata": {},
   "outputs": [
    {
     "data": {
      "text/plain": [
       "21334"
      ]
     },
     "execution_count": 8,
     "metadata": {},
     "output_type": "execute_result"
    }
   ],
   "source": [
    "len(review_sub[\"game\"].unique())"
   ]
  },
  {
   "cell_type": "code",
   "execution_count": 9,
   "id": "59ca8dc8",
   "metadata": {},
   "outputs": [
    {
     "data": {
      "text/plain": [
       "10556"
      ]
     },
     "execution_count": 9,
     "metadata": {},
     "output_type": "execute_result"
    }
   ],
   "source": [
    "len(games_sub)"
   ]
  },
  {
   "cell_type": "code",
   "execution_count": 10,
   "id": "58fe74bb",
   "metadata": {},
   "outputs": [
    {
     "data": {
      "text/plain": [
       "21323"
      ]
     },
     "execution_count": 10,
     "metadata": {},
     "output_type": "execute_result"
    }
   ],
   "source": [
    "len(review[\"game\"].unique())"
   ]
  },
  {
   "cell_type": "code",
   "execution_count": 11,
   "id": "35a563c2",
   "metadata": {},
   "outputs": [
    {
     "data": {
      "text/plain": [
       "10618"
      ]
     },
     "execution_count": 11,
     "metadata": {},
     "output_type": "execute_result"
    }
   ],
   "source": [
    "len(games)"
   ]
  },
  {
   "cell_type": "code",
   "execution_count": 12,
   "id": "909afd2f",
   "metadata": {},
   "outputs": [],
   "source": [
    "games_vec = pd.DataFrame(games_vec)\n",
    "games = pd.concat([games,games_vec],axis=1)"
   ]
  },
  {
   "cell_type": "code",
   "execution_count": 13,
   "id": "9fb74697",
   "metadata": {},
   "outputs": [],
   "source": [
    "from sklearn.model_selection import cross_val_score\n",
    "from sklearn.linear_model import LinearRegression"
   ]
  },
  {
   "cell_type": "code",
   "execution_count": 14,
   "id": "8216df5c",
   "metadata": {},
   "outputs": [],
   "source": [
    "lm_games = LinearRegression()\n",
    "scores = cross_val_score(lm_games, games[games.columns[3:]], games[\"score\"], cv=5,\n",
    "                                   scoring='neg_mean_absolute_percentage_error')"
   ]
  },
  {
   "cell_type": "code",
   "execution_count": 15,
   "id": "2f945784",
   "metadata": {},
   "outputs": [
    {
     "data": {
      "text/plain": [
       "array([-0.11060308, -0.11192853, -0.10908101, -0.11419794, -0.11081282])"
      ]
     },
     "execution_count": 15,
     "metadata": {},
     "output_type": "execute_result"
    }
   ],
   "source": [
    "scores"
   ]
  },
  {
   "cell_type": "code",
   "execution_count": 16,
   "id": "bebcbb22",
   "metadata": {},
   "outputs": [
    {
     "data": {
      "text/plain": [
       "LinearRegression()"
      ]
     },
     "execution_count": 16,
     "metadata": {},
     "output_type": "execute_result"
    }
   ],
   "source": [
    "lm_games.fit(games[games.columns[3:]], games[\"score\"])"
   ]
  },
  {
   "cell_type": "markdown",
   "id": "a62b39ba",
   "metadata": {},
   "source": [
    "### Предиктим оценку по описанию игры"
   ]
  },
  {
   "cell_type": "code",
   "execution_count": 17,
   "id": "2ec4ca54",
   "metadata": {},
   "outputs": [
    {
     "data": {
      "application/vnd.jupyter.widget-view+json": {
       "model_id": "31ad7ccf9e18467e9da4dfae98b6f4bd",
       "version_major": 2,
       "version_minor": 0
      },
      "text/plain": [
       "IntProgress(value=0, max=10618)"
      ]
     },
     "metadata": {},
     "output_type": "display_data"
    }
   ],
   "source": [
    "f = IntProgress(min=0, max=len(games))\n",
    "display(f)\n",
    "\n",
    "games_sub_vec = []\n",
    "for i in games_sub[\"desc\"]:\n",
    "    games_sub_vec.append(nlp(i).vector)\n",
    "    f.value += 1"
   ]
  },
  {
   "cell_type": "code",
   "execution_count": 18,
   "id": "baebbe04",
   "metadata": {},
   "outputs": [],
   "source": [
    "games_sub_vec = pd.DataFrame(games_sub_vec)\n",
    "games_sub = pd.concat([games_sub,games_sub_vec],axis=1)"
   ]
  },
  {
   "cell_type": "code",
   "execution_count": 19,
   "id": "f1175a83",
   "metadata": {},
   "outputs": [],
   "source": [
    "games_sub[\"score\"] = lm_games.predict(games_sub[games_sub.columns[1:]])"
   ]
  },
  {
   "cell_type": "markdown",
   "id": "3d463a7b",
   "metadata": {},
   "source": [
    "### Векторизуем review "
   ]
  },
  {
   "cell_type": "code",
   "execution_count": 20,
   "id": "c3894487",
   "metadata": {},
   "outputs": [
    {
     "data": {
      "application/vnd.jupyter.widget-view+json": {
       "model_id": "1bcc2314ae2d4bacba208079029eed6d",
       "version_major": 2,
       "version_minor": 0
      },
      "text/plain": [
       "IntProgress(value=0, max=1684309)"
      ]
     },
     "metadata": {},
     "output_type": "display_data"
    }
   ],
   "source": [
    "f = IntProgress(min=0, max=len(review))\n",
    "display(f)\n",
    "\n",
    "review_vec = []\n",
    "for i in review[\"comment\"]:\n",
    "    review_vec.append(nlp(i).vector)\n",
    "    f.value += 1"
   ]
  },
  {
   "cell_type": "code",
   "execution_count": 21,
   "id": "70ce88ac",
   "metadata": {},
   "outputs": [
    {
     "data": {
      "text/plain": [
       "1684309"
      ]
     },
     "execution_count": 21,
     "metadata": {},
     "output_type": "execute_result"
    }
   ],
   "source": [
    "len(review_vec)"
   ]
  },
  {
   "cell_type": "code",
   "execution_count": 22,
   "id": "170b8382",
   "metadata": {},
   "outputs": [],
   "source": [
    "review_vec = pd.DataFrame(review_vec)\n",
    "review = pd.concat([review,review_vec],axis=1)"
   ]
  },
  {
   "cell_type": "code",
   "execution_count": 23,
   "id": "8a5f5a19",
   "metadata": {},
   "outputs": [
    {
     "data": {
      "text/plain": [
       "comment    0.000000\n",
       "game       0.000000\n",
       "rating     0.000000\n",
       "0          0.001727\n",
       "1          0.001727\n",
       "             ...   \n",
       "91         0.001727\n",
       "92         0.001727\n",
       "93         0.001727\n",
       "94         0.001727\n",
       "95         0.001727\n",
       "Length: 99, dtype: float64"
      ]
     },
     "execution_count": 23,
     "metadata": {},
     "output_type": "execute_result"
    }
   ],
   "source": [
    "review.isna().mean()"
   ]
  },
  {
   "cell_type": "markdown",
   "id": "81bf0a3d",
   "metadata": {},
   "source": [
    "### Векторизуем review_sub"
   ]
  },
  {
   "cell_type": "code",
   "execution_count": 24,
   "id": "140eb03f",
   "metadata": {},
   "outputs": [],
   "source": [
    "review_sub[\"comment\"]=review_sub[\"comment\"].astype(str)"
   ]
  },
  {
   "cell_type": "code",
   "execution_count": 25,
   "id": "23c2f276",
   "metadata": {},
   "outputs": [
    {
     "data": {
      "application/vnd.jupyter.widget-view+json": {
       "model_id": "cc3f3e43ccae4f3e99cc6ed2e1e9dc71",
       "version_major": 2,
       "version_minor": 0
      },
      "text/plain": [
       "IntProgress(value=0, max=1684310)"
      ]
     },
     "metadata": {},
     "output_type": "display_data"
    }
   ],
   "source": [
    "f = IntProgress(min=0, max=len(review_sub))\n",
    "display(f)\n",
    "\n",
    "review_sub_vec = []\n",
    "for i in review_sub[\"comment\"]:\n",
    "    review_sub_vec.append(nlp(i).vector)\n",
    "    f.value += 1"
   ]
  },
  {
   "cell_type": "code",
   "execution_count": 26,
   "id": "2eae7ff9",
   "metadata": {},
   "outputs": [],
   "source": [
    "review_sub_vec = pd.DataFrame(review_sub_vec)"
   ]
  },
  {
   "cell_type": "code",
   "execution_count": 27,
   "id": "0af0b209",
   "metadata": {},
   "outputs": [],
   "source": [
    "review_sub = pd.concat([review_sub,review_sub_vec],axis=1)"
   ]
  },
  {
   "cell_type": "markdown",
   "id": "2bd97065",
   "metadata": {},
   "source": [
    "### Оценим модель для пользовательской оценки игры"
   ]
  },
  {
   "cell_type": "code",
   "execution_count": 28,
   "id": "c73eb99c",
   "metadata": {},
   "outputs": [],
   "source": [
    "lm_review = LinearRegression()\n",
    "scores_rew = cross_val_score(lm_review, review[review.columns[3:]].dropna(), review.dropna()[\"rating\"], cv=5,\n",
    "                                   scoring='neg_mean_absolute_percentage_error')"
   ]
  },
  {
   "cell_type": "code",
   "execution_count": 29,
   "id": "8a763b42",
   "metadata": {},
   "outputs": [
    {
     "data": {
      "text/plain": [
       "array([-0.28101728, -0.27996849, -0.28106469, -0.50192912, -0.2807063 ])"
      ]
     },
     "execution_count": 29,
     "metadata": {},
     "output_type": "execute_result"
    }
   ],
   "source": [
    "scores_rew"
   ]
  },
  {
   "cell_type": "code",
   "execution_count": 30,
   "id": "4219f6e7",
   "metadata": {},
   "outputs": [
    {
     "data": {
      "text/plain": [
       "LinearRegression()"
      ]
     },
     "execution_count": 30,
     "metadata": {},
     "output_type": "execute_result"
    }
   ],
   "source": [
    "lm_review.fit(review[review.columns[3:]].dropna(), review.dropna()[\"rating\"])"
   ]
  },
  {
   "cell_type": "code",
   "execution_count": 31,
   "id": "4db267e0",
   "metadata": {},
   "outputs": [],
   "source": [
    "review_sub[\"rating\"] = lm_review.predict(review_sub[review_sub.columns[2:]])"
   ]
  },
  {
   "cell_type": "code",
   "execution_count": 32,
   "id": "9a65166c",
   "metadata": {},
   "outputs": [
    {
     "data": {
      "text/plain": [
       "0          7.117733\n",
       "1          7.546399\n",
       "2          6.655129\n",
       "3          7.268070\n",
       "4          6.631054\n",
       "             ...   \n",
       "1684305    6.597529\n",
       "1684306    6.707068\n",
       "1684307    6.723706\n",
       "1684308    6.729539\n",
       "1684309    7.039034\n",
       "Name: rating, Length: 1684310, dtype: float64"
      ]
     },
     "execution_count": 32,
     "metadata": {},
     "output_type": "execute_result"
    }
   ],
   "source": [
    "review_sub[\"rating\"]"
   ]
  },
  {
   "cell_type": "code",
   "execution_count": 33,
   "id": "43d02372",
   "metadata": {},
   "outputs": [],
   "source": [
    "rating=review_sub[\"rating\"]\n",
    "review_sub=review_sub.drop(\"rating\",axis=1)"
   ]
  },
  {
   "cell_type": "code",
   "execution_count": 34,
   "id": "ba0c12be",
   "metadata": {},
   "outputs": [],
   "source": [
    "review_sub.insert(2, 'rating', rating)"
   ]
  },
  {
   "cell_type": "code",
   "execution_count": 35,
   "id": "461ae47d",
   "metadata": {},
   "outputs": [],
   "source": [
    "review_end=pd.concat([review,review_sub])"
   ]
  },
  {
   "cell_type": "markdown",
   "id": "291ea9d8",
   "metadata": {},
   "source": [
    "#### Сохраняю все преобразованные датасеты"
   ]
  },
  {
   "cell_type": "code",
   "execution_count": 36,
   "id": "1eb9c61d",
   "metadata": {},
   "outputs": [],
   "source": [
    "review_end.to_csv(\"review_end.csv\")\n",
    "games_sub.to_csv(\"games_sub_num.csv\")\n",
    "games.to_csv(\"games_num.csv\")"
   ]
  }
 ],
 "metadata": {
  "kernelspec": {
   "display_name": "Python 3 (ipykernel)",
   "language": "python",
   "name": "python3"
  },
  "language_info": {
   "codemirror_mode": {
    "name": "ipython",
    "version": 3
   },
   "file_extension": ".py",
   "mimetype": "text/x-python",
   "name": "python",
   "nbconvert_exporter": "python",
   "pygments_lexer": "ipython3",
   "version": "3.9.13"
  }
 },
 "nbformat": 4,
 "nbformat_minor": 5
}
