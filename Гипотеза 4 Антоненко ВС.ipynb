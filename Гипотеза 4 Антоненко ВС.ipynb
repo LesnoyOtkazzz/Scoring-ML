{
 "cells": [
  {
   "cell_type": "code",
   "execution_count": 1,
   "id": "9be8b93d",
   "metadata": {},
   "outputs": [],
   "source": [
    "import pandas as pd\n",
    "import numpy as np\n",
    "from sklearn.model_selection import train_test_split\n",
    "from sklearn.metrics import mean_squared_log_error\n",
    "from sklearn.tree import DecisionTreeRegressor\n",
    "from sklearn.ensemble import RandomForestRegressor\n",
    "from sklearn.ensemble import GradientBoostingRegressor\n",
    "from sklearn.tree import DecisionTreeClassifier\n",
    "from sklearn.ensemble import RandomForestClassifier\n",
    "from sklearn.ensemble import GradientBoostingClassifier\n",
    "from sklearn.metrics import roc_auc_score"
   ]
  },
  {
   "cell_type": "code",
   "execution_count": 3,
   "id": "3ed38375",
   "metadata": {},
   "outputs": [],
   "source": [
    "train_raw = pd.read_csv('train_pr.csv')\n",
    "test = pd.read_csv('test_pr.csv')"
   ]
  },
  {
   "cell_type": "code",
   "execution_count": 4,
   "id": "e6f457d7",
   "metadata": {},
   "outputs": [
    {
     "data": {
      "text/plain": [
       "((10906, 50), (4675, 50), (4902, 50))"
      ]
     },
     "execution_count": 4,
     "metadata": {},
     "output_type": "execute_result"
    }
   ],
   "source": [
    "split_date = '2014-03-01'\n",
    "# разбиваем данные на обучающий и отложенный набор данных (train и out of time)\n",
    "train = train_raw[train_raw['timestamp'] < split_date]\n",
    "oot = train_raw[train_raw['timestamp'] >= split_date]\n",
    "\n",
    "# создаем колонку по которой будем делать стратификацию данных\n",
    "stratify = train['timestamp'].str[:-3] + '_' + train['__churn'].map(str)\n",
    "\n",
    "# разбиваем датасет на обучающий и отложенный (train и out of sample) в соотношении 70% (train) на 30% (out of time) использую стратифицированную колонку\n",
    "train, oos = train_test_split(train, test_size=0.3, random_state=47, stratify=stratify)\n",
    "\n",
    "train.shape, oos.shape, oot.shape"
   ]
  },
  {
   "cell_type": "code",
   "execution_count": 5,
   "id": "51932c5a",
   "metadata": {},
   "outputs": [
    {
     "data": {
      "text/plain": [
       "['__churn', '__price_doc']"
      ]
     },
     "execution_count": 5,
     "metadata": {},
     "output_type": "execute_result"
    }
   ],
   "source": [
    "remove_features = train.columns[train.columns.str.startswith('__')].tolist()\n",
    "remove_features"
   ]
  },
  {
   "cell_type": "code",
   "execution_count": 6,
   "id": "e352de29",
   "metadata": {},
   "outputs": [],
   "source": [
    "# формируем колонки с непрерывными признаками, которые будем подавать в модель\n",
    "continuous_features = list(set(train.dtypes[train.dtypes != 'object'].index.tolist()) \n",
    "                           - set(remove_features))\n",
    "# continuous_features"
   ]
  },
  {
   "cell_type": "code",
   "execution_count": 7,
   "id": "7d192c17",
   "metadata": {},
   "outputs": [],
   "source": [
    "X_train = train[continuous_features].fillna(0.).copy(True)\n",
    "X_test = test[continuous_features].fillna(0.).copy(True)\n",
    "X_oos = oos[continuous_features].fillna(0.).copy(True)\n",
    "X_oot = oot[continuous_features].fillna(0.).copy(True)\n",
    "\n",
    "# список в котором храним набор различных датасетов для обучения и оценки модели\n",
    "# (имя датасета, обучающий набор фичей, отложенный набор фичей)\n",
    "# первым должен стоять обучающий набор данных\n",
    "X_y_datasets = [\n",
    "    ('train', X_train, train),\n",
    "    ('oos', X_oos, oos),\n",
    "    ('oot', X_oot, oot)]"
   ]
  },
  {
   "cell_type": "code",
   "execution_count": 12,
   "id": "9b8a73a3",
   "metadata": {},
   "outputs": [
    {
     "name": "stderr",
     "output_type": "stream",
     "text": [
      "C:\\Users\\1\\AppData\\Local\\Temp\\ipykernel_22488\\3515887215.py:16: SettingWithCopyWarning: \n",
      "A value is trying to be set on a copy of a slice from a DataFrame.\n",
      "Try using .loc[row_indexer,col_indexer] = value instead\n",
      "\n",
      "See the caveats in the documentation: https://pandas.pydata.org/pandas-docs/stable/user_guide/indexing.html#returning-a-view-versus-a-copy\n",
      "  y_['__churn_predict_log'] = value\n"
     ]
    },
    {
     "data": {
      "text/html": [
       "<div>\n",
       "<style scoped>\n",
       "    .dataframe tbody tr th:only-of-type {\n",
       "        vertical-align: middle;\n",
       "    }\n",
       "\n",
       "    .dataframe tbody tr th {\n",
       "        vertical-align: top;\n",
       "    }\n",
       "\n",
       "    .dataframe thead th {\n",
       "        text-align: right;\n",
       "    }\n",
       "</style>\n",
       "<table border=\"1\" class=\"dataframe\">\n",
       "  <thead>\n",
       "    <tr style=\"text-align: right;\">\n",
       "      <th></th>\n",
       "      <th>number</th>\n",
       "      <th>alpha</th>\n",
       "      <th>train</th>\n",
       "      <th>oos</th>\n",
       "      <th>oot</th>\n",
       "      <th>mean</th>\n",
       "    </tr>\n",
       "  </thead>\n",
       "  <tbody>\n",
       "    <tr>\n",
       "      <th>0</th>\n",
       "      <td>100.0</td>\n",
       "      <td>4.0</td>\n",
       "      <td>0.984977</td>\n",
       "      <td>0.972158</td>\n",
       "      <td>0.966728</td>\n",
       "      <td>0.969443</td>\n",
       "    </tr>\n",
       "  </tbody>\n",
       "</table>\n",
       "</div>"
      ],
      "text/plain": [
       "   number  alpha     train       oos       oot      mean\n",
       "0   100.0    4.0  0.984977  0.972158  0.966728  0.969443"
      ]
     },
     "execution_count": 12,
     "metadata": {},
     "output_type": "execute_result"
    }
   ],
   "source": [
    "name, X_, y_ = X_y_datasets[0]\n",
    "\n",
    "df_boost_clf = pd.DataFrame({'number': [],'alpha': [], 'train': [], 'oos': [], 'oot': []})\n",
    "\n",
    "log_model = GradientBoostingClassifier(random_state=47,\n",
    "        max_depth=4,\n",
    "        n_estimators=100)\n",
    "log_model.fit(X_, y_['__churn'])\n",
    "\n",
    "for name, X_, y_ in X_y_datasets:\n",
    "    # получаем предсказания модели\n",
    "    value = []\n",
    "    for j in range(len(log_model.predict_proba(X_))):\n",
    "        value.append(log_model.predict_proba(X_)[j][1])\n",
    "        #value[value < 0] = 0\n",
    "    y_['__churn_predict_log'] = value\n",
    "    \n",
    "    \n",
    "new=[100,4]\n",
    "    \n",
    "    \n",
    "for name, X_, y_ in X_y_datasets:\n",
    "    # получаем оценку качества модели\n",
    "    value = roc_auc_score(y_['__churn'], y_['__churn_predict_log'])\n",
    "        #print(f'{name:10s}: {value:.4f}')\n",
    "    new.append(value)\n",
    "df_boost_clf.loc[ len(df_boost_clf.index )] = new\n",
    "    \n",
    "    \n",
    "df_boost_clf[\"mean\"]=(df_boost_clf['oos']+df_boost_clf['oot'])/2\n",
    "df_boost_clf"
   ]
  },
  {
   "cell_type": "code",
   "execution_count": 15,
   "id": "4428e019",
   "metadata": {},
   "outputs": [
    {
     "name": "stderr",
     "output_type": "stream",
     "text": [
      "C:\\Users\\1\\AppData\\Local\\Temp\\ipykernel_22488\\1110163082.py:15: SettingWithCopyWarning: \n",
      "A value is trying to be set on a copy of a slice from a DataFrame.\n",
      "Try using .loc[row_indexer,col_indexer] = value instead\n",
      "\n",
      "See the caveats in the documentation: https://pandas.pydata.org/pandas-docs/stable/user_guide/indexing.html#returning-a-view-versus-a-copy\n",
      "  y_['__price_predict_decisiontree'] = value\n"
     ]
    },
    {
     "data": {
      "text/html": [
       "<div>\n",
       "<style scoped>\n",
       "    .dataframe tbody tr th:only-of-type {\n",
       "        vertical-align: middle;\n",
       "    }\n",
       "\n",
       "    .dataframe tbody tr th {\n",
       "        vertical-align: top;\n",
       "    }\n",
       "\n",
       "    .dataframe thead th {\n",
       "        text-align: right;\n",
       "    }\n",
       "</style>\n",
       "<table border=\"1\" class=\"dataframe\">\n",
       "  <thead>\n",
       "    <tr style=\"text-align: right;\">\n",
       "      <th></th>\n",
       "      <th>number</th>\n",
       "      <th>alpha</th>\n",
       "      <th>train</th>\n",
       "      <th>oos</th>\n",
       "      <th>oot</th>\n",
       "      <th>mean</th>\n",
       "    </tr>\n",
       "  </thead>\n",
       "  <tbody>\n",
       "    <tr>\n",
       "      <th>0</th>\n",
       "      <td>99.0</td>\n",
       "      <td>9.0</td>\n",
       "      <td>0.036218</td>\n",
       "      <td>0.139689</td>\n",
       "      <td>0.144507</td>\n",
       "      <td>0.142098</td>\n",
       "    </tr>\n",
       "  </tbody>\n",
       "</table>\n",
       "</div>"
      ],
      "text/plain": [
       "   number  alpha     train       oos       oot      mean\n",
       "0    99.0    9.0  0.036218  0.139689  0.144507  0.142098"
      ]
     },
     "execution_count": 15,
     "metadata": {},
     "output_type": "execute_result"
    }
   ],
   "source": [
    "name, X_, y_ = X_y_datasets[0]\n",
    "\n",
    "df_boost = pd.DataFrame({'number': [],'alpha': [], 'train': [], 'oos': [], 'oot': []})\n",
    "\n",
    "reg_model = GradientBoostingRegressor(random_state=47,\n",
    "        max_depth=9,\n",
    "        n_estimators=99)\n",
    "reg_model.fit(X_, y_['__price_doc'])\n",
    "\n",
    "for name, X_, y_ in X_y_datasets:\n",
    "    # получаем предсказания модели\n",
    "    value = reg_model.predict(X_)\n",
    "    # зануляем значения прогноза в случае если они ниже 0\n",
    "    value[value < 0] = 0\n",
    "    y_['__price_predict_decisiontree'] = value\n",
    "    \n",
    "    \n",
    "new=[99,9]\n",
    "    \n",
    "    \n",
    "for name, X_, y_ in X_y_datasets:\n",
    "    # получаем оценку качества модели\n",
    "    value = mean_squared_log_error(y_true=y_['__price_doc'], y_pred=y_['__price_predict_decisiontree'])\n",
    "        #print(f'{name:10s}: {value:.4f}')\n",
    "    new.append(value)\n",
    "df_boost.loc[ len(df_boost.index )] = new\n",
    "    \n",
    "    \n",
    "df_boost[\"mean\"]=(df_boost['oos']+df_boost['oot'])/2\n",
    "df_boost"
   ]
  },
  {
   "cell_type": "code",
   "execution_count": 20,
   "id": "e118f221",
   "metadata": {},
   "outputs": [
    {
     "name": "stdout",
     "output_type": "stream",
     "text": [
      "Number of features: 47\n",
      "Names of features: ['total_revolving_bal', 'public_transport_station_min_walk', 'avg_open_to_buy', 'railroad_1line', 'railroad_terminal_raion', 'mkad_km', 'avg_utilization_ratio', 'detention_facility_km', 'months_inactive_12_mon', 'months_on_book', 'marital_status', 'floor', 'customer_age', 'thermal_power_plant_raion', 'total_amt_chng_q4_q1', 'office_sqm_5000', 'leisure_count_5000', 'nuclear_reactor_raion', 'radiation_raion', 'railroad_station_walk_km', 'water_1line', 'school_education_centers_top_20_raion', 'product_type', 'market_count_1500', 'big_market_raion', 'oil_chemistry_raion', 'total_ct_chng_q4_q1', 'full_sq', 'total_relationship_count', 'leisure_count_3000', 'gender', 'education_level', 'incineration_raion', 'total_trans_ct', 'trc_count_2000', 'card_category', 'big_road1_1line', 'culture_objects_top_25', 'credit_limit', 'income_category', 'detention_facility_raion', 'sport_count_2000', 'ecology', 'contacts_count_12_mon', 'metro_km_walk', 'dependent_count', 'cafe_count_1000_price_1000']\n"
     ]
    }
   ],
   "source": [
    "name, X_, y_ = X_y_datasets[0]\n",
    "\n",
    "X_ = X_.copy(True)\n",
    "# Создаем новую колонку в датасете (для примера с именем \"random\")\n",
    "# Колонка никак не связана с целевой переменной\n",
    "# и имеет равномерное распределение от 0 до 1\n",
    "X_[\"random\"] = np.random.normal()\n",
    "#я использую стандартное нормальное распределение, потому что признаки стандартизованные и часто могут быть нормальны\n",
    "#практика показала, что остается меньше признаков\n",
    "train_columns = X_.columns.tolist()\n",
    "\n",
    "# создаем объект модель\n",
    "regr_alt = GradientBoostingRegressor(random_state=47,\n",
    "        max_depth=9,\n",
    "        n_estimators=99)\n",
    "\n",
    "# обучаем модель на всех признаках\n",
    "regr_alt.fit(X_, y_['__price_doc'])\n",
    "\n",
    "# получаем важность признаков\n",
    "df = pd.DataFrame({\"feature\": X_.columns, \"importance\": regr_alt.feature_importances_})\n",
    "# получаем важность признака random\n",
    "rv_importance = df[df[\"feature\"] == \"random\"][\"importance\"].iloc[0]\n",
    "\n",
    "# оставляем признаки с важностью равной или большей чем случайный признак\n",
    "sel_cols_reg = df[df[\"importance\"] > rv_importance][\"feature\"].tolist()\n",
    "# выводим кол-во признаков c важностью больше чем случайная\n",
    "print(f\"Number of features: {len(sel_cols_reg)}\")\n",
    "# выводим имена признаков\n",
    "print(f\"Names of features: {sel_cols_reg}\")"
   ]
  },
  {
   "cell_type": "code",
   "execution_count": 21,
   "id": "421a2fbb",
   "metadata": {},
   "outputs": [
    {
     "name": "stdout",
     "output_type": "stream",
     "text": [
      "Number of features: 41\n",
      "Names of features: ['total_revolving_bal', 'public_transport_station_min_walk', 'avg_open_to_buy', 'railroad_1line', 'railroad_terminal_raion', 'mkad_km', 'avg_utilization_ratio', 'detention_facility_km', 'months_inactive_12_mon', 'months_on_book', 'marital_status', 'floor', 'customer_age', 'thermal_power_plant_raion', 'total_amt_chng_q4_q1', 'office_sqm_5000', 'leisure_count_5000', 'nuclear_reactor_raion', 'radiation_raion', 'railroad_station_walk_km', 'water_1line', 'school_education_centers_top_20_raion', 'market_count_1500', 'big_market_raion', 'total_ct_chng_q4_q1', 'full_sq', 'total_relationship_count', 'leisure_count_3000', 'gender', 'total_trans_ct', 'trc_count_2000', 'card_category', 'culture_objects_top_25', 'credit_limit', 'income_category', 'sport_count_2000', 'ecology', 'contacts_count_12_mon', 'metro_km_walk', 'dependent_count', 'cafe_count_1000_price_1000']\n"
     ]
    }
   ],
   "source": [
    "name, X_, y_ = X_y_datasets[0]\n",
    "\n",
    "X_ = X_.copy(True)\n",
    "# Создаем новую колонку в датасете (для примера с именем \"random\")\n",
    "# Колонка никак не связана с целевой переменной\n",
    "# и имеет равномерное распределение от 0 до 1\n",
    "X_[\"random\"] = np.random.normal()\n",
    "#я использую стандартное нормальное распределение, потому что признаки стандартизованные и часто могут быть нормальны\n",
    "#практика показала, что остается меньше признаков\n",
    "train_columns = X_.columns.tolist()\n",
    "\n",
    "# создаем объект модель\n",
    "regr_alt = GradientBoostingClassifier(random_state=47,\n",
    "        max_depth=4,\n",
    "        n_estimators=100)\n",
    "\n",
    "# обучаем модель на всех признаках\n",
    "regr_alt.fit(X_, y_['__churn'])\n",
    "\n",
    "# получаем важность признаков\n",
    "df = pd.DataFrame({\"feature\": X_.columns, \"importance\": regr_alt.feature_importances_})\n",
    "# получаем важность признака random\n",
    "rv_importance = df[df[\"feature\"] == \"random\"][\"importance\"].iloc[0]\n",
    "\n",
    "# оставляем признаки с важностью равной или большей чем случайный признак\n",
    "sel_cols_clf = df[df[\"importance\"] > rv_importance][\"feature\"].tolist()\n",
    "# выводим кол-во признаков c важностью больше чем случайная\n",
    "print(f\"Number of features: {len(sel_cols_clf)}\")\n",
    "# выводим имена признаков\n",
    "print(f\"Names of features: {sel_cols_clf}\")"
   ]
  },
  {
   "cell_type": "code",
   "execution_count": null,
   "id": "6823adf0",
   "metadata": {},
   "outputs": [],
   "source": [
    "#проверим точность только с важными признаками"
   ]
  },
  {
   "cell_type": "code",
   "execution_count": 22,
   "id": "55d20d9e",
   "metadata": {},
   "outputs": [
    {
     "name": "stderr",
     "output_type": "stream",
     "text": [
      "C:\\Users\\1\\AppData\\Local\\Temp\\ipykernel_22488\\2924774811.py:16: SettingWithCopyWarning: \n",
      "A value is trying to be set on a copy of a slice from a DataFrame.\n",
      "Try using .loc[row_indexer,col_indexer] = value instead\n",
      "\n",
      "See the caveats in the documentation: https://pandas.pydata.org/pandas-docs/stable/user_guide/indexing.html#returning-a-view-versus-a-copy\n",
      "  y_['__churn_predict_log'] = value\n"
     ]
    },
    {
     "data": {
      "text/html": [
       "<div>\n",
       "<style scoped>\n",
       "    .dataframe tbody tr th:only-of-type {\n",
       "        vertical-align: middle;\n",
       "    }\n",
       "\n",
       "    .dataframe tbody tr th {\n",
       "        vertical-align: top;\n",
       "    }\n",
       "\n",
       "    .dataframe thead th {\n",
       "        text-align: right;\n",
       "    }\n",
       "</style>\n",
       "<table border=\"1\" class=\"dataframe\">\n",
       "  <thead>\n",
       "    <tr style=\"text-align: right;\">\n",
       "      <th></th>\n",
       "      <th>number</th>\n",
       "      <th>alpha</th>\n",
       "      <th>train</th>\n",
       "      <th>oos</th>\n",
       "      <th>oot</th>\n",
       "      <th>mean</th>\n",
       "    </tr>\n",
       "  </thead>\n",
       "  <tbody>\n",
       "    <tr>\n",
       "      <th>0</th>\n",
       "      <td>100.0</td>\n",
       "      <td>4.0</td>\n",
       "      <td>0.984977</td>\n",
       "      <td>0.972152</td>\n",
       "      <td>0.966724</td>\n",
       "      <td>0.969438</td>\n",
       "    </tr>\n",
       "  </tbody>\n",
       "</table>\n",
       "</div>"
      ],
      "text/plain": [
       "   number  alpha     train       oos       oot      mean\n",
       "0   100.0    4.0  0.984977  0.972152  0.966724  0.969438"
      ]
     },
     "execution_count": 22,
     "metadata": {},
     "output_type": "execute_result"
    }
   ],
   "source": [
    "name, X_, y_ = X_y_datasets[0]\n",
    "\n",
    "df_boost_clf_restr = pd.DataFrame({'number': [],'alpha': [], 'train': [], 'oos': [], 'oot': []})\n",
    "\n",
    "log_model = GradientBoostingClassifier(random_state=47,\n",
    "        max_depth=4,\n",
    "        n_estimators=100)\n",
    "log_model.fit(X_[sel_cols_clf], y_['__churn'])\n",
    "\n",
    "for name, X_, y_ in X_y_datasets:\n",
    "    # получаем предсказания модели\n",
    "    value = []\n",
    "    for j in range(len(log_model.predict_proba(X_[sel_cols_clf]))):\n",
    "        value.append(log_model.predict_proba(X_[sel_cols_clf])[j][1])\n",
    "        #value[value < 0] = 0\n",
    "    y_['__churn_predict_log'] = value\n",
    "    \n",
    "    \n",
    "new=[100,4]\n",
    "    \n",
    "    \n",
    "for name, X_, y_ in X_y_datasets:\n",
    "    # получаем оценку качества модели\n",
    "    value = roc_auc_score(y_['__churn'], y_['__churn_predict_log'])\n",
    "        #print(f'{name:10s}: {value:.4f}')\n",
    "    new.append(value)\n",
    "df_boost_clf_restr.loc[ len(df_boost_clf_restr.index )] = new\n",
    "    \n",
    "    \n",
    "df_boost_clf_restr[\"mean\"]=(df_boost_clf_restr['oos']+df_boost_clf_restr['oot'])/2\n",
    "df_boost_clf_restr"
   ]
  },
  {
   "cell_type": "code",
   "execution_count": 23,
   "id": "b9587ac6",
   "metadata": {},
   "outputs": [
    {
     "name": "stderr",
     "output_type": "stream",
     "text": [
      "C:\\Users\\1\\AppData\\Local\\Temp\\ipykernel_22488\\2427419363.py:15: SettingWithCopyWarning: \n",
      "A value is trying to be set on a copy of a slice from a DataFrame.\n",
      "Try using .loc[row_indexer,col_indexer] = value instead\n",
      "\n",
      "See the caveats in the documentation: https://pandas.pydata.org/pandas-docs/stable/user_guide/indexing.html#returning-a-view-versus-a-copy\n",
      "  y_['__price_predict_decisiontree'] = value\n"
     ]
    },
    {
     "data": {
      "text/html": [
       "<div>\n",
       "<style scoped>\n",
       "    .dataframe tbody tr th:only-of-type {\n",
       "        vertical-align: middle;\n",
       "    }\n",
       "\n",
       "    .dataframe tbody tr th {\n",
       "        vertical-align: top;\n",
       "    }\n",
       "\n",
       "    .dataframe thead th {\n",
       "        text-align: right;\n",
       "    }\n",
       "</style>\n",
       "<table border=\"1\" class=\"dataframe\">\n",
       "  <thead>\n",
       "    <tr style=\"text-align: right;\">\n",
       "      <th></th>\n",
       "      <th>number</th>\n",
       "      <th>alpha</th>\n",
       "      <th>train</th>\n",
       "      <th>oos</th>\n",
       "      <th>oot</th>\n",
       "      <th>mean</th>\n",
       "    </tr>\n",
       "  </thead>\n",
       "  <tbody>\n",
       "    <tr>\n",
       "      <th>0</th>\n",
       "      <td>99.0</td>\n",
       "      <td>9.0</td>\n",
       "      <td>0.036218</td>\n",
       "      <td>0.139689</td>\n",
       "      <td>0.144507</td>\n",
       "      <td>0.142098</td>\n",
       "    </tr>\n",
       "  </tbody>\n",
       "</table>\n",
       "</div>"
      ],
      "text/plain": [
       "   number  alpha     train       oos       oot      mean\n",
       "0    99.0    9.0  0.036218  0.139689  0.144507  0.142098"
      ]
     },
     "execution_count": 23,
     "metadata": {},
     "output_type": "execute_result"
    }
   ],
   "source": [
    "name, X_, y_ = X_y_datasets[0]\n",
    "\n",
    "df_boost_restr = pd.DataFrame({'number': [],'alpha': [], 'train': [], 'oos': [], 'oot': []})\n",
    "\n",
    "reg_model = GradientBoostingRegressor(random_state=47,\n",
    "        max_depth=9,\n",
    "        n_estimators=99)\n",
    "reg_model.fit(X_[sel_cols_reg], y_['__price_doc'])\n",
    "\n",
    "for name, X_, y_ in X_y_datasets:\n",
    "    # получаем предсказания модели\n",
    "    value = reg_model.predict(X_[sel_cols_reg])\n",
    "    # зануляем значения прогноза в случае если они ниже 0\n",
    "    value[value < 0] = 0\n",
    "    y_['__price_predict_decisiontree'] = value\n",
    "    \n",
    "    \n",
    "new=[99,9]\n",
    "    \n",
    "    \n",
    "for name, X_, y_ in X_y_datasets:\n",
    "    # получаем оценку качества модели\n",
    "    value = mean_squared_log_error(y_true=y_['__price_doc'], y_pred=y_['__price_predict_decisiontree'])\n",
    "        #print(f'{name:10s}: {value:.4f}')\n",
    "    new.append(value)\n",
    "df_boost_restr.loc[ len(df_boost_restr.index )] = new\n",
    "    \n",
    "    \n",
    "df_boost_restr[\"mean\"]=(df_boost_restr['oos']+df_boost_restr['oot'])/2\n",
    "df_boost_restr"
   ]
  },
  {
   "cell_type": "code",
   "execution_count": null,
   "id": "307d87ff",
   "metadata": {},
   "outputs": [],
   "source": [
    "#ну вот, в общем то потерь в качестве нет, а исключили из обеих моделей примерно 40 признаков"
   ]
  }
 ],
 "metadata": {
  "kernelspec": {
   "display_name": "Python 3 (ipykernel)",
   "language": "python",
   "name": "python3"
  },
  "language_info": {
   "codemirror_mode": {
    "name": "ipython",
    "version": 3
   },
   "file_extension": ".py",
   "mimetype": "text/x-python",
   "name": "python",
   "nbconvert_exporter": "python",
   "pygments_lexer": "ipython3",
   "version": "3.9.13"
  }
 },
 "nbformat": 4,
 "nbformat_minor": 5
}
