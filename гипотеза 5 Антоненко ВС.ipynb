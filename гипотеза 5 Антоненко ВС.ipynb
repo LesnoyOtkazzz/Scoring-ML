{
 "cells": [
  {
   "cell_type": "code",
   "execution_count": 1,
   "id": "5e97b90f",
   "metadata": {},
   "outputs": [],
   "source": [
    "import pandas as pd\n",
    "import numpy as np\n",
    "from sklearn.model_selection import train_test_split\n",
    "from sklearn.metrics import mean_squared_log_error\n",
    "from sklearn.tree import DecisionTreeRegressor\n",
    "from sklearn.ensemble import RandomForestRegressor\n",
    "from sklearn.ensemble import GradientBoostingRegressor\n",
    "from sklearn.tree import DecisionTreeClassifier\n",
    "from sklearn.ensemble import RandomForestClassifier\n",
    "from sklearn.ensemble import GradientBoostingClassifier\n",
    "from sklearn.metrics import roc_auc_score\n",
    "import os\n",
    "from custom import calc_all_metrics\n",
    "import seaborn as sns"
   ]
  },
  {
   "cell_type": "code",
   "execution_count": 2,
   "id": "15065bd6",
   "metadata": {},
   "outputs": [],
   "source": [
    "data= pd.read_csv('train_pr.csv')\n",
    "submission = pd.read_csv('test_pr.csv')"
   ]
  },
  {
   "cell_type": "code",
   "execution_count": 3,
   "id": "36f57c7e",
   "metadata": {},
   "outputs": [],
   "source": [
    "train, test = train_test_split(data, test_size=0.2)\n",
    "train.shape, test.shape\n",
    "\n",
    "\n",
    "remove_features = train.columns[train.columns.str.startswith('__')].tolist()\n",
    "\n",
    "\n",
    "continuous_features = list(set(train.dtypes[train.dtypes != 'object'].index.tolist()) \n",
    "                           - set(remove_features))"
   ]
  },
  {
   "cell_type": "code",
   "execution_count": 4,
   "id": "a16318bd",
   "metadata": {},
   "outputs": [],
   "source": [
    "X_train = train[continuous_features].fillna(0.)\n",
    "X_test = test[continuous_features].fillna(0.)\n",
    "X_sub = submission[continuous_features].fillna(0.)"
   ]
  },
  {
   "cell_type": "code",
   "execution_count": 5,
   "id": "1b484f97",
   "metadata": {},
   "outputs": [],
   "source": [
    "reg_model = GradientBoostingRegressor(random_state=47,\n",
    "        max_depth=9,n_estimators=99)\n",
    "reg_model.fit(X_train, train['__price_doc'])\n",
    "\n",
    "train['__price_predict'] = reg_model.predict(X_train)\n",
    "test['__price_predict'] = reg_model.predict(X_test)\n",
    "submission['__price_predict'] = reg_model.predict(X_sub)\n",
    "\n",
    "# В случае когда значение ниже 0\n",
    "train.loc[train['__price_predict'] < 0.1, '__price_predict'] = 0.1\n",
    "test.loc[test['__price_predict'] < 0.1, '__price_predict'] = 0.1\n",
    "submission.loc[submission['__price_predict'] < 0.1, '__price_predict'] = 0.1"
   ]
  },
  {
   "cell_type": "code",
   "execution_count": 6,
   "id": "f1cfd233",
   "metadata": {},
   "outputs": [],
   "source": [
    "log_model = GradientBoostingClassifier(random_state=47,\n",
    "        max_depth=4,n_estimators=100)\n",
    "log_model.fit(X_train, train['__churn'])\n",
    "\n",
    "train_prob = log_model.predict_proba(X_train)\n",
    "test_prob = log_model.predict_proba(X_test)\n",
    "sub_prob = log_model.predict_proba(X_sub)\n",
    "\n",
    "# Выбираем вероятность для 1 класса\n",
    "train['__churn_prob'] = train_prob[:, 1]\n",
    "test['__churn_prob'] = test_prob[:, 1]\n",
    "submission['__churn_prob'] = sub_prob[:, 1]"
   ]
  },
  {
   "cell_type": "code",
   "execution_count": 7,
   "id": "7bf63f33",
   "metadata": {},
   "outputs": [],
   "source": [
    "from scipy.optimize import linprog"
   ]
  },
  {
   "cell_type": "code",
   "execution_count": 20,
   "id": "5af22f03",
   "metadata": {},
   "outputs": [],
   "source": [
    "def alg1(y):\n",
    "    \"\"\"\n",
    "    Алгоритм приоритизации #1 в выдаче ипотеки\n",
    "    \"\"\"\n",
    "    y[\"ex_inc\"]=(1-y['__churn_prob'])*y['__price_predict']\n",
    "    y[\"var\"]=y['__churn_prob']*(1-y['__churn_prob'])*y['__price_predict']**2\n",
    "    \n",
    "    obj = list(-1*y[\"ex_inc\"])\n",
    "    \n",
    "    lhs_ineq = [y[\"var\"]] \n",
    "    rhs_ineq = [y[\"var\"].median()*8000]\n",
    "    \n",
    "    #bnd = [(0,i) for i in y['__churn_prob']]\n",
    "    bnd = [(0,1)]*len(y)\n",
    "    \n",
    "    opt = linprog(c=obj, A_ub=lhs_ineq, b_ub=rhs_ineq, bounds=bnd,\n",
    "              method='highs')\n",
    "    \n",
    "    return opt.x*y['__price_predict']*(1-y['__churn_prob'])\n",
    "\n",
    "\n",
    "#train['__priority'] = train.apply(alg1, axis=1)\n",
    "#test['__priority'] = test.apply(alg1, axis=1)\n",
    "#submission['__priority'] = submission.apply(alg1, axis=1)\n",
    "\n",
    "train['__priority'] = alg1(train)\n",
    "test['__priority'] = alg1(test)\n",
    "submission['__priority'] = alg1(submission)"
   ]
  },
  {
   "cell_type": "code",
   "execution_count": 21,
   "id": "f39ed5cd",
   "metadata": {},
   "outputs": [
    {
     "data": {
      "text/plain": [
       "{'total_profit': 4995.896268970735,\n",
       " '%profit': 50.0,\n",
       " 'good_credits_count': 599,\n",
       " 'good_credits_debt': 9991.79253794147,\n",
       " 'bad_credits_count': 0,\n",
       " 'bad_credits_losses': 0.0,\n",
       " 'bad_credits_%losses': 0.0,\n",
       " 'churn_rocauc': 0.9816,\n",
       " 'price_msle': 0.0451}"
      ]
     },
     "execution_count": 21,
     "metadata": {},
     "output_type": "execute_result"
    }
   ],
   "source": [
    "calc_all_metrics(train)"
   ]
  },
  {
   "cell_type": "code",
   "execution_count": 22,
   "id": "1a7ad546",
   "metadata": {},
   "outputs": [
    {
     "data": {
      "text/plain": [
       "{'total_profit': 3042.0011843188877,\n",
       " '%profit': 34.38,\n",
       " 'good_credits_count': 1413,\n",
       " 'good_credits_debt': 8847.248876343709,\n",
       " 'bad_credits_count': 37,\n",
       " 'bad_credits_losses': 212.8948970194385,\n",
       " 'bad_credits_%losses': 7.0,\n",
       " 'churn_rocauc': 0.9734,\n",
       " 'price_msle': 0.1475}"
      ]
     },
     "execution_count": 22,
     "metadata": {},
     "output_type": "execute_result"
    }
   ],
   "source": [
    "calc_all_metrics(test)"
   ]
  },
  {
   "cell_type": "code",
   "execution_count": 23,
   "id": "42053903",
   "metadata": {},
   "outputs": [],
   "source": [
    "mysub = submission[['__price_predict', '__churn_prob', '__priority']]\n",
    "\n",
    "mysub.to_csv('submission.csv', index=False)\n",
    "\n",
    "if mysub.shape != (9988, 3):\n",
    "    raise ValueError('Не корректный размер файла с предсказаниями')"
   ]
  },
  {
   "cell_type": "code",
   "execution_count": null,
   "id": "1a896e24",
   "metadata": {},
   "outputs": [],
   "source": []
  }
 ],
 "metadata": {
  "kernelspec": {
   "display_name": "Python 3 (ipykernel)",
   "language": "python",
   "name": "python3"
  },
  "language_info": {
   "codemirror_mode": {
    "name": "ipython",
    "version": 3
   },
   "file_extension": ".py",
   "mimetype": "text/x-python",
   "name": "python",
   "nbconvert_exporter": "python",
   "pygments_lexer": "ipython3",
   "version": "3.9.13"
  }
 },
 "nbformat": 4,
 "nbformat_minor": 5
}
